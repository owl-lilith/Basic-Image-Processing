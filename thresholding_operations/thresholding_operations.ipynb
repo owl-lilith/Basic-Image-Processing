{
 "cells": [
  {
   "cell_type": "code",
   "execution_count": 9,
   "metadata": {},
   "outputs": [],
   "source": [
    "# implement libraries\n",
    "import cv2 as cv\n",
    "import matplotlib.pyplot as plt"
   ]
  },
  {
   "cell_type": "code",
   "execution_count": 10,
   "metadata": {},
   "outputs": [],
   "source": [
    "# load image\n",
    "image_path = 'test_input.png'\n",
    "input_image = cv.imread(image_path)\n",
    "# gray_image = cv.cvtColor(input_image, cv.COLOR_BGR2GRAY)\n",
    "maximum_pixel_value = 255\n"
   ]
  },
  {
   "cell_type": "code",
   "execution_count": 11,
   "metadata": {},
   "outputs": [],
   "source": [
    "# threshold binary\n",
    "def threshold_binary_filter(threshold_value):\n",
    "    _, output_image = cv.threshold(input_image, threshold_value, maximum_pixel_value, cv.THRESH_BINARY)\n",
    "    return output_image"
   ]
  },
  {
   "cell_type": "code",
   "execution_count": 12,
   "metadata": {},
   "outputs": [],
   "source": [
    "# threshold binary inverted\n",
    "def threshold_binary_inverted_filter(threshold_value):\n",
    "    _, output_image = cv.threshold(input_image, threshold_value, maximum_pixel_value, cv.THRESH_BINARY_INV)\n",
    "    return output_image"
   ]
  },
  {
   "cell_type": "code",
   "execution_count": 13,
   "metadata": {},
   "outputs": [],
   "source": [
    "# Truncate\n",
    "def truncate_filter(threshold_value):\n",
    "    _, output_image = cv.threshold(input_image, threshold_value, maximum_pixel_value, cv.THRESH_TRUNC)\n",
    "    return output_image"
   ]
  },
  {
   "cell_type": "code",
   "execution_count": 14,
   "metadata": {},
   "outputs": [],
   "source": [
    "# threshold to zero\n",
    "def threshold_to_zero_filter(threshold_value):\n",
    "    _, output_image = cv.threshold(input_image, threshold_value, maximum_pixel_value, cv.THRESH_TOZERO)\n",
    "    return output_image"
   ]
  },
  {
   "cell_type": "code",
   "execution_count": 15,
   "metadata": {},
   "outputs": [],
   "source": [
    "# threshold to zero inverted\n",
    "def threshold_to_zero_inverted_filter(threshold_value):\n",
    "    _, output_image = cv.threshold(input_image, threshold_value, maximum_pixel_value, cv.THRESH_TOZERO_INV)\n",
    "    return output_image"
   ]
  },
  {
   "cell_type": "code",
   "execution_count": 16,
   "metadata": {},
   "outputs": [],
   "source": [
    "# testing\n",
    "dst = threshold_binary_filter(100)\n",
    "cv.imshow('out', dst)\n",
    "cv.waitKey(0)\n",
    "cv.destroyAllWindows()"
   ]
  },
  {
   "cell_type": "code",
   "execution_count": null,
   "metadata": {},
   "outputs": [],
   "source": []
  }
 ],
 "metadata": {
  "kernelspec": {
   "display_name": "Python 3",
   "language": "python",
   "name": "python3"
  },
  "language_info": {
   "codemirror_mode": {
    "name": "ipython",
    "version": 3
   },
   "file_extension": ".py",
   "mimetype": "text/x-python",
   "name": "python",
   "nbconvert_exporter": "python",
   "pygments_lexer": "ipython3",
   "version": "3.11.3"
  }
 },
 "nbformat": 4,
 "nbformat_minor": 2
}
