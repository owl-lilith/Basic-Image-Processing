{
 "cells": [
  {
   "cell_type": "code",
   "execution_count": 3,
   "metadata": {},
   "outputs": [],
   "source": [
    "import cv2 as cv\n",
    "import matplotlib.pyplot as plt"
   ]
  },
  {
   "cell_type": "code",
   "execution_count": 4,
   "metadata": {},
   "outputs": [],
   "source": [
    "# applying blur filters\n",
    "image_path = 'test.jpg'\n",
    "input_image = cv.imread(image_path)\n",
    "rows, columns, _ = input_image.shape\n"
   ]
  },
  {
   "cell_type": "code",
   "execution_count": 5,
   "metadata": {},
   "outputs": [],
   "source": [
    "def zoom_out():\n",
    "    return cv.pyrDown(input_image, dstsize=(columns // 2, rows // 2))"
   ]
  },
  {
   "cell_type": "code",
   "execution_count": 6,
   "metadata": {},
   "outputs": [],
   "source": [
    "def zoom_in():\n",
    "    return cv.pyrUp(input_image, dstsize=(columns * 2, rows * 2))"
   ]
  },
  {
   "cell_type": "code",
   "execution_count": 7,
   "metadata": {},
   "outputs": [],
   "source": [
    "# plot output images\n",
    "def plot_images(images, images_title):\n",
    "    plt.figure(figsize=(40, 20)) \n",
    "    for i in range(len(images)):\n",
    "        plt.subplot(3, 4, i + 1) \n",
    "        img_rgb = cv.cvtColor(images[i], cv.COLOR_BGR2RGB)\n",
    "        plt.imshow(img_rgb) \n",
    "        plt.title(images_title[i])  \n",
    "        plt.axis('off')  # Hide the axes to make it cleaner\n",
    "\n",
    "    plt.tight_layout()\n",
    "    plt.show() "
   ]
  },
  {
   "cell_type": "code",
   "execution_count": 8,
   "metadata": {},
   "outputs": [],
   "source": [
    "cv.imshow('original image', input_image)\n",
    "cv.imshow('zoomed in', zoom_in())\n",
    "cv.imshow('zoomed out', zoom_out())\n",
    "cv.waitKey(0)\n",
    "cv.destroyAllWindows()"
   ]
  },
  {
   "cell_type": "code",
   "execution_count": null,
   "metadata": {},
   "outputs": [],
   "source": []
  }
 ],
 "metadata": {
  "kernelspec": {
   "display_name": "Python 3",
   "language": "python",
   "name": "python3"
  },
  "language_info": {
   "codemirror_mode": {
    "name": "ipython",
    "version": 3
   },
   "file_extension": ".py",
   "mimetype": "text/x-python",
   "name": "python",
   "nbconvert_exporter": "python",
   "pygments_lexer": "ipython3",
   "version": "3.11.3"
  }
 },
 "nbformat": 4,
 "nbformat_minor": 2
}
